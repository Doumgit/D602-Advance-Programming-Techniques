{
  "nbformat": 4,
  "nbformat_minor": 0,
  "metadata": {
    "colab": {
      "provenance": [],
      "authorship_tag": "ABX9TyN3BqMr+FGVjHqf66lCp07u",
      "include_colab_link": true
    },
    "kernelspec": {
      "name": "python3",
      "display_name": "Python 3"
    },
    "language_info": {
      "name": "python"
    }
  },
  "cells": [
    {
      "cell_type": "markdown",
      "metadata": {
        "id": "view-in-github",
        "colab_type": "text"
      },
      "source": [
        "<a href=\"https://colab.research.google.com/github/Doumgit/D602-Advance-Programming-Techniques/blob/main/SDoumbia_QOTW_7.ipynb\" target=\"_parent\"><img src=\"https://colab.research.google.com/assets/colab-badge.svg\" alt=\"Open In Colab\"/></a>"
      ]
    },
    {
      "cell_type": "markdown",
      "source": [
        "## 1.  What is pandas and why use it?\n"
      ],
      "metadata": {
        "id": "lxD9Wy-FHObE"
      }
    },
    {
      "cell_type": "markdown",
      "source": [
        "Pandas is a powerful and flexible Python library primarily used for data manipulation and analysis. Built on top of the NumPy library, it provides data structures and operations for manipulating numerical tables and time series. We might choose to use pandas for these reasons:\n",
        "\n",
        "- **Data Manipulation** which simplifies complex operations with data.\n",
        "- **Handling Missing Data** because it offers tools to detect, remove, or fill missing data.\n",
        "- **Powerful Data Analysis Tools** such as aggregation and pivoting features to summarize datasets\n",
        "- **Read and Write Data** since it supports a wide array of formats, enhancing data interoperability.\n",
        "- Pandas is **integrated with many Other Libraries** (Matplotlib and Seaborn for example)"
      ],
      "metadata": {
        "id": "lz4rhgrxLUBS"
      }
    },
    {
      "cell_type": "markdown",
      "source": [
        "## 2. Give an example of how to import a csv file using pandas"
      ],
      "metadata": {
        "id": "ItQwYMaKHS53"
      }
    },
    {
      "cell_type": "code",
      "source": [
        "import pandas as pd\n",
        "\n",
        "csv_file = \"data.csv\"\n",
        "\n",
        "df = pd.read_csv(csv_file)"
      ],
      "metadata": {
        "id": "O_EB2e_vHYaf"
      },
      "execution_count": null,
      "outputs": []
    },
    {
      "cell_type": "markdown",
      "source": [
        "## 3. Show how to view the first 10 rows of a dataset using pandas\n"
      ],
      "metadata": {
        "id": "4BIOqCnMHY1D"
      }
    },
    {
      "cell_type": "code",
      "source": [
        "print(data.head(10))"
      ],
      "metadata": {
        "id": "M0DpHS89Hcto"
      },
      "execution_count": null,
      "outputs": []
    },
    {
      "cell_type": "markdown",
      "source": [
        "## 4. Write a Pandas program to compare the elements of the two Pandas Series.\n",
        "Sample Series: [2, 4, 6, 8, 10], [1, 3, 5, 7, 10]"
      ],
      "metadata": {
        "id": "V9hxKagPHdep"
      }
    },
    {
      "cell_type": "code",
      "source": [
        "import pandas as pd\n",
        "\n",
        "# Creating two Pandas Series\n",
        "series1 = pd.Series([2, 4, 6, 8, 10])\n",
        "series2 = pd.Series([1, 3, 5, 7, 10])\n",
        "\n",
        "# Greater than comparison\n",
        "greater_than = series1 > series2\n",
        "print(\"\\nElements of Series1 greater than Series2:\")\n",
        "print(greater_than)"
      ],
      "metadata": {
        "colab": {
          "base_uri": "https://localhost:8080/"
        },
        "id": "pqrrNNBLHvPS",
        "outputId": "688bb402-3d0b-4895-90ae-0cdf03785a64"
      },
      "execution_count": 7,
      "outputs": [
        {
          "output_type": "stream",
          "name": "stdout",
          "text": [
            "\n",
            "Elements of Series1 greater than Series2:\n",
            "0     True\n",
            "1     True\n",
            "2     True\n",
            "3     True\n",
            "4    False\n",
            "dtype: bool\n"
          ]
        }
      ]
    },
    {
      "cell_type": "markdown",
      "source": [
        "## 5. Change the first character of each word to upper case in each word of df1\n",
        "df1 = pd.Series(['hello', 'to', 'cuny', 'class?'])"
      ],
      "metadata": {
        "id": "LIDKoea-HvkR"
      }
    },
    {
      "cell_type": "code",
      "source": [
        "df1 = pd.Series(['hello', 'to', 'cuny', 'class?'])\n",
        "df1 = df1.str.capitalize()\n",
        "df1\n"
      ],
      "metadata": {
        "colab": {
          "base_uri": "https://localhost:8080/"
        },
        "id": "i5MfEJPTHzsv",
        "outputId": "f6c068b0-7646-40e2-e986-47d97c5d26d3"
      },
      "execution_count": 19,
      "outputs": [
        {
          "output_type": "execute_result",
          "data": {
            "text/plain": [
              "0     Hello\n",
              "1        To\n",
              "2      Cuny\n",
              "3    Class?\n",
              "dtype: object"
            ]
          },
          "metadata": {},
          "execution_count": 19
        }
      ]
    }
  ]
}