{
  "nbformat": 4,
  "nbformat_minor": 0,
  "metadata": {
    "colab": {
      "provenance": [],
      "authorship_tag": "ABX9TyPmBzo2x1MqhA3cUflwjOP2",
      "include_colab_link": true
    },
    "kernelspec": {
      "name": "python3",
      "display_name": "Python 3"
    },
    "language_info": {
      "name": "python"
    }
  },
  "cells": [
    {
      "cell_type": "markdown",
      "metadata": {
        "id": "view-in-github",
        "colab_type": "text"
      },
      "source": [
        "<a href=\"https://colab.research.google.com/github/Doumgit/D602-Advance-Programming-Techniques/blob/main/SDoumbia___QOTW_3_.ipynb\" target=\"_parent\"><img src=\"https://colab.research.google.com/assets/colab-badge.svg\" alt=\"Open In Colab\"/></a>"
      ]
    },
    {
      "cell_type": "code",
      "execution_count": null,
      "metadata": {
        "id": "6dgOSY9JWgDl"
      },
      "outputs": [],
      "source": []
    },
    {
      "cell_type": "markdown",
      "source": [
        "## 1 Create a list called animals that contain the following: cat, dog, manta ray, horse, crouching tiger"
      ],
      "metadata": {
        "id": "NrAo5SpSWxUz"
      }
    },
    {
      "cell_type": "code",
      "source": [
        "animal_list = ['cat','dog', 'manta ray', 'horse', 'crouching tiger']\n",
        "animal_list"
      ],
      "metadata": {
        "colab": {
          "base_uri": "https://localhost:8080/"
        },
        "id": "FfMRad8NW1br",
        "outputId": "f24a77f9-d987-46ed-f9ff-16f5ba1a6ff0"
      },
      "execution_count": 2,
      "outputs": [
        {
          "output_type": "execute_result",
          "data": {
            "text/plain": [
              "['cat', 'dog', 'manta ray', 'horse', 'crouching tiger']"
            ]
          },
          "metadata": {},
          "execution_count": 2
        }
      ]
    },
    {
      "cell_type": "markdown",
      "source": [
        "## 2. Repeat question 1 and loop through and print each item in the animal list by iterating through an index number and using range(). Set a variable len_animals to the length of the animal list."
      ],
      "metadata": {
        "id": "EtbIX9uwXb6A"
      }
    },
    {
      "cell_type": "code",
      "source": [
        "len_animals = len(animal_list)\n",
        "\n",
        "for i in range(0,len_animals):\n",
        "  print(animal_list[i])\n"
      ],
      "metadata": {
        "colab": {
          "base_uri": "https://localhost:8080/"
        },
        "id": "IL-r1Sh7XhKC",
        "outputId": "7160ff77-86c2-4241-cff0-16262744a839"
      },
      "execution_count": 5,
      "outputs": [
        {
          "output_type": "stream",
          "name": "stdout",
          "text": [
            "cat\n",
            "dog\n",
            "manta ray\n",
            "horse\n",
            "crouching tiger\n"
          ]
        }
      ]
    },
    {
      "cell_type": "markdown",
      "source": [
        "## 3. Programmatically reorganize the countdown list below in descending order and return the value of the 5th element in the sorted countdown list.\n",
        "\n",
        "    - The 5th element will be stored in the variable the_fifth_element, which currently below has a dummy value of -999.\n",
        "    - Remember, the index number of the 5th element is not 5"
      ],
      "metadata": {
        "id": "X2K_W0OBYwLc"
      }
    },
    {
      "cell_type": "code",
      "source": [
        "countdown = [9, 8, 7, 5, 4, 2, 1, 6, 10, 3, 0, -5]\n",
        "\n",
        "countdown.sort(reverse=True)\n",
        "\n",
        "the_fifth_element = countdown[4]\n",
        "\n",
        "the_fifth_element"
      ],
      "metadata": {
        "colab": {
          "base_uri": "https://localhost:8080/"
        },
        "id": "0TDML5LvY_cO",
        "outputId": "d23ef087-3618-43f9-b77c-8d6dcaa536d3"
      },
      "execution_count": 20,
      "outputs": [
        {
          "output_type": "execute_result",
          "data": {
            "text/plain": [
              "6"
            ]
          },
          "metadata": {},
          "execution_count": 20
        }
      ]
    },
    {
      "cell_type": "markdown",
      "source": [
        "## 4. Write a program to add item 7000 after 6000 in the following Python List\n",
        "list1 = [10, 20, [300, 400, [5000, 6000], 500], 30, 40]\n",
        "Expected output:\n",
        "[10, 20, [300, 400, [5000, 6000, 7000], 500], 30, 40]"
      ],
      "metadata": {
        "id": "rN9v_JZ6clSx"
      }
    },
    {
      "cell_type": "code",
      "source": [
        "list1 = [10, 20, [300, 400, [5000, 6000], 500], 30, 40]\n",
        "#Expected output:\n",
        "#[10, 20, [300, 400, [5000, 6000, 7000], 500], 30, 40]\n",
        "\n",
        "list1[2][2].insert(2,7000)\n",
        "list1"
      ],
      "metadata": {
        "colab": {
          "base_uri": "https://localhost:8080/"
        },
        "id": "dAk-ByXIcowf",
        "outputId": "d4e8c1b6-0bc0-41e9-ff76-70d2acbb7d70"
      },
      "execution_count": 40,
      "outputs": [
        {
          "output_type": "execute_result",
          "data": {
            "text/plain": [
              "[10, 20, [300, 400, [5000, 6000, 7000], 500], 30, 40]"
            ]
          },
          "metadata": {},
          "execution_count": 40
        }
      ]
    },
    {
      "cell_type": "markdown",
      "source": [
        "## 5. Write a program to remove all occurrences of item 20 in the following list.\n",
        "\n",
        "list2 = [5, 20, 30, 15, 20, 30, 20]\n"
      ],
      "metadata": {
        "id": "jxgjNlZ3gsMm"
      }
    },
    {
      "cell_type": "code",
      "source": [
        "list2 = [5, 20, 30, 15, 20, 30, 20]\n",
        "\n",
        "while 20 in list2:\n",
        "    list2.remove(20)\n",
        "print(list2)"
      ],
      "metadata": {
        "colab": {
          "base_uri": "https://localhost:8080/"
        },
        "id": "74abJDfDgvA8",
        "outputId": "468cf2da-efef-44d6-e936-5b2fb95485fe"
      },
      "execution_count": 63,
      "outputs": [
        {
          "output_type": "stream",
          "name": "stdout",
          "text": [
            "[5, 30, 15, 30]\n"
          ]
        }
      ]
    },
    {
      "cell_type": "markdown",
      "source": [
        "## 6. Using the following dictionary .. (Use python to solve for the answer.)\n",
        "\n",
        "dict = {\"Course\": \"DATA 606\", \"Program\": \"MSDS\", \"School\": \"CUNYSPS\"}\n",
        "\n",
        "a. What is the name of the course?\n",
        "\n",
        "b. Change the course to DATA602\n",
        "\n",
        "c. Add new information to the dictionary - \"Professor\" with \"Schettini\"\n",
        "\n",
        "d. Using the len function, find how many keys there are in the dictionary."
      ],
      "metadata": {
        "id": "vu8NzVarm4j2"
      }
    },
    {
      "cell_type": "code",
      "source": [
        "dict = {\"Course\": \"DATA 606\", \"Program\": \"MSDS\", \"School\": \"CUNYSPS\"}\n",
        "\n",
        "# a. What is the name of the course?\n",
        "print(dict['Course'])\n",
        "\n",
        "# b. Change the course to DATA602\n",
        "dict['Course'] = 'DATA602'\n",
        "\n",
        "# c. Add new information to the dictionary - \"Professor\" with \"Schettini\"\n",
        "dict['Professor'] = 'Schettini'\n",
        "\n",
        "# d. Using the len function, find how many keys there are in the dictionary.\n",
        "print(dict)\n",
        "print(len(dict))"
      ],
      "metadata": {
        "colab": {
          "base_uri": "https://localhost:8080/"
        },
        "id": "MTcJ4T8Sm_DE",
        "outputId": "c175bffe-82f9-4d9c-e6c8-ff19c5c3fa3f"
      },
      "execution_count": 67,
      "outputs": [
        {
          "output_type": "stream",
          "name": "stdout",
          "text": [
            "DATA 606\n",
            "{'Course': 'DATA602', 'Program': 'MSDS', 'School': 'CUNYSPS', 'Professor': 'Schettini'}\n",
            "4\n"
          ]
        }
      ]
    },
    {
      "cell_type": "markdown",
      "source": [
        "## 7.  Write a Python program to change Brad’s salary to 7500 in the following dictionary.\n",
        "\n",
        "sample_dict = {\n",
        "    'emp1': {'name': 'Amanda', 'salary': 8200},\n",
        "    'emp2': {'name': 'John', 'salary': 8000},\n",
        "    'emp3': {'name': 'Brad', 'salary': 700}\n",
        "}"
      ],
      "metadata": {
        "id": "znWYNHXYonWD"
      }
    },
    {
      "cell_type": "code",
      "source": [
        "sample_dict = {\n",
        "    'emp1': {'name': 'Amanda', 'salary': 8200},\n",
        "    'emp2': {'name': 'John', 'salary': 8000},\n",
        "    'emp3': {'name': 'Brad', 'salary': 700}\n",
        "}\n",
        "\n",
        "sample_dict['emp3']['salary'] = 7500\n",
        "\n",
        "print(sample_dict)"
      ],
      "metadata": {
        "colab": {
          "base_uri": "https://localhost:8080/"
        },
        "id": "PPhXfkUSosk4",
        "outputId": "e7d4b64b-8bfd-45e2-ff94-abe6f29c4c6f"
      },
      "execution_count": 71,
      "outputs": [
        {
          "output_type": "stream",
          "name": "stdout",
          "text": [
            "{'emp1': {'name': 'Amanda', 'salary': 8200}, 'emp2': {'name': 'John', 'salary': 8000}, 'emp3': {'name': 'Brad', 'salary': 7500}}\n"
          ]
        }
      ]
    },
    {
      "cell_type": "code",
      "source": [
        "# 1.\n",
        "animal_list = ['cat','dog', 'manta ray', 'horse', 'crouching tiger']\n",
        "print(animal_list)\n",
        "\n",
        "# 2.\n",
        "len_animals = len(animal_list)\n",
        "\n",
        "for i in range(0,len_animals):\n",
        "  print(animal_list[i])\n",
        "\n",
        "\n",
        "# 3.\n",
        "countdown = [9, 8, 7, 5, 4, 2, 1, 6, 10, 3, 0, -5]\n",
        "\n",
        "countdown.sort(reverse=True)\n",
        "\n",
        "the_fifth_element = countdown[4]\n",
        "\n",
        "print(the_fifth_element)\n",
        "\n",
        "\n",
        "#. 4\n",
        "list1 = [10, 20, [300, 400, [5000, 6000], 500], 30, 40]\n",
        "#Expected output:\n",
        "#[10, 20, [300, 400, [5000, 6000, 7000], 500], 30, 40]\n",
        "\n",
        "list1[2][2].insert(2,7000)\n",
        "print(list1)\n",
        "\n",
        "\n",
        "# 5.\n",
        "list2 = [5, 20, 30, 15, 20, 30, 20]\n",
        "\n",
        "while 20 in list2:\n",
        "    list2.remove(20)\n",
        "print(list2)\n",
        "\n",
        "\n",
        "# 6.\n",
        "dict = {\"Course\": \"DATA 606\", \"Program\": \"MSDS\", \"School\": \"CUNYSPS\"}\n",
        "\n",
        "# a. What is the name of the course?\n",
        "print(dict['Course'])\n",
        "\n",
        "# b. Change the course to DATA602\n",
        "dict['Course'] = 'DATA602'\n",
        "\n",
        "# c. Add new information to the dictionary - \"Professor\" with \"Schettini\"\n",
        "dict['Professor'] = 'Schettini'\n",
        "\n",
        "# d. Using the len function, find how many keys there are in the dictionary.\n",
        "print(dict)\n",
        "print(len(dict))\n",
        "\n",
        "\n",
        "# 7.\n",
        "sample_dict = {\n",
        "    'emp1': {'name': 'Amanda', 'salary': 8200},\n",
        "    'emp2': {'name': 'John', 'salary': 8000},\n",
        "    'emp3': {'name': 'Brad', 'salary': 700}\n",
        "}\n",
        "\n",
        "sample_dict['emp3']['salary'] = 7500\n",
        "\n",
        "print(sample_dict)"
      ],
      "metadata": {
        "colab": {
          "base_uri": "https://localhost:8080/"
        },
        "id": "Cyw_haJyq9UB",
        "outputId": "69b09aab-0eca-427f-bec2-4fe4b5d8d8de"
      },
      "execution_count": 75,
      "outputs": [
        {
          "output_type": "stream",
          "name": "stdout",
          "text": [
            "['cat', 'dog', 'manta ray', 'horse', 'crouching tiger']\n",
            "cat\n",
            "dog\n",
            "manta ray\n",
            "horse\n",
            "crouching tiger\n",
            "6\n",
            "[10, 20, [300, 400, [5000, 6000, 7000], 500], 30, 40]\n",
            "[5, 30, 15, 30]\n",
            "DATA 606\n",
            "{'Course': 'DATA602', 'Program': 'MSDS', 'School': 'CUNYSPS', 'Professor': 'Schettini'}\n",
            "4\n",
            "{'emp1': {'name': 'Amanda', 'salary': 8200}, 'emp2': {'name': 'John', 'salary': 8000}, 'emp3': {'name': 'Brad', 'salary': 7500}}\n"
          ]
        }
      ]
    },
    {
      "cell_type": "code",
      "source": [
        "# 1.\n",
        "animal_list = ['cat','dog', 'manta ray', 'horse', 'crouching tiger']\n",
        "print(animal_list)\n",
        "\n",
        "# 2.\n",
        "len_animals = len(animal_list)\n",
        "\n",
        "for i in range(0,len_animals):\n",
        "  print(animal_list[i])\n",
        "\n",
        "\n",
        "# 3.\n",
        "countdown = [9, 8, 7, 5, 4, 2, 1, 6, 10, 3, 0, -5]\n",
        "\n",
        "countdown.sort(reverse=True)\n",
        "\n",
        "the_fifth_element = countdown[4]\n",
        "\n",
        "print(the_fifth_element)\n",
        "\n",
        "\n",
        "#. 4\n",
        "list1 = [10, 20, [300, 400, [5000, 6000], 500], 30, 40]\n",
        "#Expected output:\n",
        "#[10, 20, [300, 400, [5000, 6000, 7000], 500], 30, 40]\n",
        "\n",
        "list1[2][2].insert(2,7000)\n",
        "print(list1)\n",
        "\n",
        "\n",
        "# 5.\n",
        "list2 = [5, 20, 30, 15, 20, 30, 20]\n",
        "\n",
        "while 20 in list2:\n",
        "    list2.remove(20)\n",
        "print(list2)\n",
        "\n",
        "\n",
        "# 6.\n",
        "dict = {\"Course\": \"DATA 606\", \"Program\": \"MSDS\", \"School\": \"CUNYSPS\"}\n",
        "\n",
        "# a. What is the name of the course?\n",
        "print(dict['Course'])\n",
        "\n",
        "# b. Change the course to DATA602\n",
        "dict['Course'] = 'DATA602'\n",
        "\n",
        "# c. Add new information to the dictionary - \"Professor\" with \"Schettini\"\n",
        "dict['Professor'] = 'Schettini'\n",
        "\n",
        "# d. Using the len function, find how many keys there are in the dictionary.\n",
        "print(dict)\n",
        "print(len(dict))\n",
        "\n",
        "\n",
        "# 7.\n",
        "sample_dict = {\n",
        "    'emp1': {'name': 'Amanda', 'salary': 8200},\n",
        "    'emp2': {'name': 'John', 'salary': 8000},\n",
        "    'emp3': {'name': 'Brad', 'salary': 700}\n",
        "}\n",
        "\n",
        "sample_dict['emp3']['salary'] = 7500\n",
        "\n",
        "print(sample_dict)"
      ],
      "metadata": {
        "colab": {
          "base_uri": "https://localhost:8080/"
        },
        "id": "E390ZlKer6Fk",
        "outputId": "f24ad95c-396c-4805-d1a9-8ee843c18c59"
      },
      "execution_count": 76,
      "outputs": [
        {
          "output_type": "stream",
          "name": "stdout",
          "text": [
            "['cat', 'dog', 'manta ray', 'horse', 'crouching tiger']\n",
            "cat\n",
            "dog\n",
            "manta ray\n",
            "horse\n",
            "crouching tiger\n",
            "6\n",
            "[10, 20, [300, 400, [5000, 6000, 7000], 500], 30, 40]\n",
            "[5, 30, 15, 30]\n",
            "DATA 606\n",
            "{'Course': 'DATA602', 'Program': 'MSDS', 'School': 'CUNYSPS', 'Professor': 'Schettini'}\n",
            "4\n",
            "{'emp1': {'name': 'Amanda', 'salary': 8200}, 'emp2': {'name': 'John', 'salary': 8000}, 'emp3': {'name': 'Brad', 'salary': 7500}}\n"
          ]
        }
      ]
    }
  ]
}