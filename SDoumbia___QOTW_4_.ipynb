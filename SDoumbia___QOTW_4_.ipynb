{
  "nbformat": 4,
  "nbformat_minor": 0,
  "metadata": {
    "colab": {
      "provenance": [],
      "authorship_tag": "ABX9TyMiQSdLe2c4RKY+yXXHg53A",
      "include_colab_link": true
    },
    "kernelspec": {
      "name": "python3",
      "display_name": "Python 3"
    },
    "language_info": {
      "name": "python"
    }
  },
  "cells": [
    {
      "cell_type": "markdown",
      "metadata": {
        "id": "view-in-github",
        "colab_type": "text"
      },
      "source": [
        "<a href=\"https://colab.research.google.com/github/Doumgit/D602-Advance-Programming-Techniques/blob/main/SDoumbia___QOTW_4_.ipynb\" target=\"_parent\"><img src=\"https://colab.research.google.com/assets/colab-badge.svg\" alt=\"Open In Colab\"/></a>"
      ]
    },
    {
      "cell_type": "code",
      "execution_count": null,
      "metadata": {
        "id": "g9AH4bZKaRvl"
      },
      "outputs": [],
      "source": []
    },
    {
      "cell_type": "markdown",
      "source": [
        "### 1. Write a function to calculate the area and perimeter of a rectangle."
      ],
      "metadata": {
        "id": "rHs7I-adl-8P"
      }
    },
    {
      "cell_type": "code",
      "source": [
        "def area_peri_rectangle(x,y):\n",
        "  area = x*y\n",
        "  perimeter = 2*(x+y)\n",
        "\n",
        "  print(\"Rectangle Area: \",area)\n",
        "  print(\"Rectangle Perimeter: \", perimeter)\n",
        "\n",
        "# Example: Rectangle with width x = 15, and lenght y = 27\n",
        "area_peri_rectangle(15,27)\n"
      ],
      "metadata": {
        "colab": {
          "base_uri": "https://localhost:8080/"
        },
        "id": "t7OaDkA3mDFG",
        "outputId": "0e9765fb-f8d0-4908-e12f-d361320f6be5"
      },
      "execution_count": null,
      "outputs": [
        {
          "output_type": "stream",
          "name": "stdout",
          "text": [
            "Rectangle Area:  405\n",
            "Rectangle Perimeter:  84\n"
          ]
        }
      ]
    },
    {
      "cell_type": "markdown",
      "source": [
        "2. Write a function to check if a number is even or not.  The function should indicate to the user even or odd.\n",
        "\n"
      ],
      "metadata": {
        "id": "pstsODAonnPG"
      }
    },
    {
      "cell_type": "code",
      "source": [
        "def check_number(x):\n",
        "  if x%2 == 0:\n",
        "    print('Even')\n",
        "  else:\n",
        "    print('Odd')\n",
        "\n",
        "t = 11\n",
        "h = 8\n",
        "check_number(t)\n",
        "check_number(h)"
      ],
      "metadata": {
        "colab": {
          "base_uri": "https://localhost:8080/"
        },
        "id": "MeoNZQjinqQo",
        "outputId": "38937fe0-978a-4fbe-ec75-828f9133ed26"
      },
      "execution_count": null,
      "outputs": [
        {
          "output_type": "stream",
          "name": "stdout",
          "text": [
            "Odd\n",
            "Even\n"
          ]
        }
      ]
    },
    {
      "cell_type": "markdown",
      "source": [
        "### 3. Write a Python function that accepts a string and calculate the number of upper case letters and lower case letters.\n",
        "\n",
        "###Sample string: “CUNY sps”\n",
        "#### - # of upper case characters: 4\n",
        "#### -  # of lower case characters: 3"
      ],
      "metadata": {
        "id": "MoB2YC5nriYu"
      }
    },
    {
      "cell_type": "code",
      "source": [
        "def count_case(s):\n",
        "    upper_case_count = 0\n",
        "    lower_case_count = 0\n",
        "\n",
        "    for char in s:\n",
        "        if char.isupper():\n",
        "            upper_case_count += 1\n",
        "        elif char.islower():\n",
        "            lower_case_count += 1\n",
        "\n",
        "    return upper_case_count, lower_case_count\n",
        "\n",
        "# Example of string: \"CUNY sps\"\n",
        "s = \"CUNY sps\"\n",
        "upper_count, lower_count = count_case(s)\n",
        "print(\"# of upper case letters:\", upper_count)\n",
        "print(\"# of lower case letters:\", lower_count)\n"
      ],
      "metadata": {
        "colab": {
          "base_uri": "https://localhost:8080/"
        },
        "id": "p3zQzVgZqek1",
        "outputId": "20753470-1744-49b4-c029-c03448d86acc"
      },
      "execution_count": null,
      "outputs": [
        {
          "output_type": "stream",
          "name": "stdout",
          "text": [
            "# of upper case letters: 4\n",
            "# of lower case letters: 3\n"
          ]
        }
      ]
    },
    {
      "cell_type": "markdown",
      "source": [
        "### 4. Write a Python function to sum all the numbers in a list"
      ],
      "metadata": {
        "id": "_X91HHaSvS7R"
      }
    },
    {
      "cell_type": "code",
      "source": [
        "def sum_list(l):\n",
        "  v = []\n",
        "  for i in l:\n",
        "    if isinstance(i, (int, float)):\n",
        "      v.append(i)\n",
        "  return sum(v)\n",
        "\n",
        "my_mixed_list = [1, \"hello\", 2.5, \"world\", 3, \"42\"]\n",
        "print(sum_list(my_mixed_list))"
      ],
      "metadata": {
        "colab": {
          "base_uri": "https://localhost:8080/"
        },
        "id": "6xDUotpkvber",
        "outputId": "8e68e8fc-b497-42fd-f319-9cf8db4a42e8"
      },
      "execution_count": null,
      "outputs": [
        {
          "output_type": "stream",
          "name": "stdout",
          "text": [
            "6.5\n"
          ]
        }
      ]
    },
    {
      "cell_type": "markdown",
      "source": [
        "### 6. Write a Python program to create a function that takes one argument, and that argument will be multiplied with an unknown given number."
      ],
      "metadata": {
        "id": "cZgMFXpvWdrE"
      }
    },
    {
      "cell_type": "code",
      "source": [
        "def multiplier(x): # takes the unknown number.\n",
        "\n",
        "\n",
        "    def multiply_with_unknown(y): # Argument to be multiply by unknown number\n",
        "\n",
        "        return y * x  # argument times unknown given number\n",
        "\n",
        "    return multiply_with_unknown\n",
        "\n",
        "# Example of application:\n",
        "unknown_multiplier = multiplier(5)  # unknown number is 5 here\n",
        "result = unknown_multiplier(10)  # Multiply 10 (argument) by 5 (unknown number)\n",
        "print(\"The result is:\", result)\n"
      ],
      "metadata": {
        "colab": {
          "base_uri": "https://localhost:8080/"
        },
        "id": "WXtvkSu3T7F7",
        "outputId": "09bdaea3-8746-4d9b-a95f-bcab5e82fddb"
      },
      "execution_count": null,
      "outputs": [
        {
          "output_type": "stream",
          "name": "stdout",
          "text": [
            "The result is: 50\n"
          ]
        }
      ]
    }
  ]
}