{
  "nbformat": 4,
  "nbformat_minor": 0,
  "metadata": {
    "colab": {
      "provenance": [],
      "authorship_tag": "ABX9TyN+CAkg8MS1TqIpZl9ixCil",
      "include_colab_link": true
    },
    "kernelspec": {
      "name": "python3",
      "display_name": "Python 3"
    },
    "language_info": {
      "name": "python"
    }
  },
  "cells": [
    {
      "cell_type": "markdown",
      "metadata": {
        "id": "view-in-github",
        "colab_type": "text"
      },
      "source": [
        "<a href=\"https://colab.research.google.com/github/Doumgit/D602-Advance-Programming-Techniques/blob/main/SDoumbia_QOTW_9.ipynb\" target=\"_parent\"><img src=\"https://colab.research.google.com/assets/colab-badge.svg\" alt=\"Open In Colab\"/></a>"
      ]
    },
    {
      "cell_type": "markdown",
      "source": [
        "## 1. How would you delete:\n",
        "- An index from your dataframe\n",
        "- A column from your dataframe\n",
        "- A row from your dataframe"
      ],
      "metadata": {
        "id": "oVqJrJSTbhbi"
      }
    },
    {
      "cell_type": "code",
      "execution_count": 39,
      "metadata": {
        "colab": {
          "base_uri": "https://localhost:8080/"
        },
        "id": "tQIDB-a9aO1x",
        "outputId": "7e96ff48-f2cd-476d-a25a-47ebac59c3fd"
      },
      "outputs": [
        {
          "output_type": "stream",
          "name": "stdout",
          "text": [
            "DataFrame after dropping a row by index:\n",
            "        A  B\n",
            "first   1  5\n",
            "third   3  7\n",
            "fourth  4  8\n",
            "DataFrame after dropping column 'B':\n",
            "        A\n",
            "first   1\n",
            "second  2\n",
            "third   3\n",
            "fourth  4\n",
            "DataFrame after dropping the second row:\n",
            "        A  B\n",
            "first   1  5\n",
            "third   3  7\n",
            "fourth  4  8\n"
          ]
        }
      ],
      "source": [
        "import pandas as pd\n",
        "\n",
        "# Creating a DataFrame\n",
        "df = pd.DataFrame({\n",
        "    'A': [1, 2, 3, 4],\n",
        "    'B': [5, 6, 7, 8]\n",
        "}, index=['first', 'second', 'third', 'fourth'])\n",
        "\n",
        "\n",
        "# Deleting an Index\n",
        "# Dropping a row by index label\n",
        "df_dropped = df.drop('second')\n",
        "print(\"DataFrame after dropping a row by index:\")\n",
        "print(df_dropped)\n",
        "\n",
        "\n",
        "# Deleting an Column\n",
        "# Dropping a column using drop()\n",
        "df_dropped_column = df.drop('B', axis=1)\n",
        "print(\"DataFrame after dropping column 'B':\")\n",
        "print(df_dropped_column)\n",
        "\n",
        "\n",
        "# Deleting a Row\n",
        "# Dropping a row by index number\n",
        "df_dropped_row = df.drop(df.index[1])\n",
        "print(\"DataFrame after dropping the second row:\")\n",
        "print(df_dropped_row)"
      ]
    },
    {
      "cell_type": "markdown",
      "source": [
        "## 2. How do you iterate over a pandas dataframe?\n",
        "\n"
      ],
      "metadata": {
        "id": "IM9gcqAVbrKs"
      }
    },
    {
      "cell_type": "code",
      "source": [
        "# Creating a DataFrame\n",
        "df = pd.DataFrame({\n",
        "    'Name': ['Alice', 'Bob', 'Charlie'],\n",
        "    'Age': [25, 30, 35]\n",
        "})\n",
        "\n",
        "# Applying a function across each row\n",
        "df['Description'] = df.apply(lambda row: f\"{row['Name']} is {row['Age']} years old\", axis=1)\n",
        "print(df)\n",
        "\n",
        "# Applying a function across each column\n",
        "mean_values = df.apply(lambda col: col.mean() if col.dtype == 'float' else None, axis=0)\n",
        "print(mean_values)\n"
      ],
      "metadata": {
        "colab": {
          "base_uri": "https://localhost:8080/"
        },
        "id": "HddzlePYbu3p",
        "outputId": "41810f85-0738-49ba-dc71-fa5c30abb4f5"
      },
      "execution_count": 17,
      "outputs": [
        {
          "output_type": "stream",
          "name": "stdout",
          "text": [
            "      Name  Age              Description\n",
            "0    Alice   25    Alice is 25 years old\n",
            "1      Bob   30      Bob is 30 years old\n",
            "2  Charlie   35  Charlie is 35 years old\n",
            "Name           None\n",
            "Age            None\n",
            "Description    None\n",
            "dtype: object\n"
          ]
        }
      ]
    },
    {
      "cell_type": "markdown",
      "source": [
        "## 3. How would you convert a string to a date?"
      ],
      "metadata": {
        "id": "TJUaiylObxE0"
      }
    },
    {
      "cell_type": "code",
      "source": [
        "# An example of date string in a Series\n",
        "date_series = pd.Series([\"2024-04-30\", \"2024-05-01\"])\n",
        "\n",
        "# Converting string to datetime\n",
        "date_series_converted = pd.to_datetime(date_series, format=\"%Y-%m-%d\")\n",
        "\n",
        "print(date_series_converted)"
      ],
      "metadata": {
        "colab": {
          "base_uri": "https://localhost:8080/"
        },
        "id": "4awdQa6Wb-8j",
        "outputId": "8bcf82c3-204f-4539-d657-49ed559d1d09"
      },
      "execution_count": 22,
      "outputs": [
        {
          "output_type": "stream",
          "name": "stdout",
          "text": [
            "0   2024-04-30\n",
            "1   2024-05-01\n",
            "dtype: datetime64[ns]\n"
          ]
        }
      ]
    },
    {
      "cell_type": "markdown",
      "source": [
        "## 4. What is data aggregation?  Give an example in Python."
      ],
      "metadata": {
        "id": "SfZ8_j8Rb_fe"
      }
    },
    {
      "cell_type": "markdown",
      "source": [
        "**Definition of Data Aggregation:**\n",
        "Data aggregation is a process in data analysis where values from multiple data sources or records are grouped together to derive a single summarization or statistic about the data."
      ],
      "metadata": {
        "id": "XSUNaVCIs6jI"
      }
    },
    {
      "cell_type": "code",
      "source": [
        "# Creating a sample DataFrame\n",
        "data = {\n",
        "    'Product': ['Apples', 'Bananas', 'Apples', 'Oranges', 'Bananas', 'Apples'],\n",
        "    'Store': ['Store A', 'Store B', 'Store C', 'Store A', 'Store C', 'Store B'],\n",
        "    'Sales': [100, 200, 150, 120, 180, 90]\n",
        "}\n",
        "\n",
        "store_data = pd.DataFrame(data)\n",
        "\n",
        "print(\"Original DataFrame:\")\n",
        "print(store_data)\n",
        "\n",
        "# Aggregating sales by product\n",
        "aggregated_data = store_data.groupby('Product').agg({'Sales': 'sum'})\n",
        "\n",
        "print(\"\\nAggregated Sales Data by Product:\")\n",
        "print(aggregated_data)\n"
      ],
      "metadata": {
        "colab": {
          "base_uri": "https://localhost:8080/"
        },
        "id": "R1mdBl_vcDbL",
        "outputId": "0840a8d2-bb37-40ba-9230-4beb37aaafa4"
      },
      "execution_count": 31,
      "outputs": [
        {
          "output_type": "stream",
          "name": "stdout",
          "text": [
            "Original DataFrame:\n",
            "   Product    Store  Sales\n",
            "0   Apples  Store A    100\n",
            "1  Bananas  Store B    200\n",
            "2   Apples  Store C    150\n",
            "3  Oranges  Store A    120\n",
            "4  Bananas  Store C    180\n",
            "5   Apples  Store B     90\n",
            "\n",
            "Aggregated Sales Data by Product:\n",
            "         Sales\n",
            "Product       \n",
            "Apples     340\n",
            "Bananas    380\n",
            "Oranges    120\n"
          ]
        }
      ]
    },
    {
      "cell_type": "markdown",
      "source": [
        "## 5. What is GroupBy in Pandas (groupby()). Give an example in Python."
      ],
      "metadata": {
        "id": "bvWl8oaWcET_"
      }
    },
    {
      "cell_type": "markdown",
      "source": [
        "**GroupBy Definition:** In Pandas, groupby() is a powerful method used to split the data into groups based on some criteria. Python’s Pandas groupby() allows you to group together rows based off of a column and perform an aggregation function on them. It consists of:\n",
        "\n",
        "- Splitting the data into groups based on some criteria.\n",
        "- Applying a function to each group independently.\n",
        "- Combining the results into a data structure."
      ],
      "metadata": {
        "id": "gDCpoN2ht7-r"
      }
    },
    {
      "cell_type": "code",
      "source": [
        "# Example usisng store_data that I created above\n",
        "\n",
        "# Grouping by the \"Store\" column and sum up sales within each store\n",
        "total_sales_per_store = store_data.groupby('Store')['Sales'].sum()\n",
        "\n",
        "# Grouping by the \"Product\" column and calculate average sales per product\n",
        "average_sales_per_product = store_data.groupby('Product')['Sales'].mean()\n",
        "\n",
        "print(\"Total Sales Per Store:\")\n",
        "print(total_sales_per_store)\n",
        "print(\"\\nAverage Sales Per Product:\")\n",
        "print(average_sales_per_product)"
      ],
      "metadata": {
        "colab": {
          "base_uri": "https://localhost:8080/"
        },
        "id": "7xLQY31dcJmh",
        "outputId": "acbc01da-b38a-49f4-ba0a-2da3c780a177"
      },
      "execution_count": 38,
      "outputs": [
        {
          "output_type": "stream",
          "name": "stdout",
          "text": [
            "Total Sales Per Store:\n",
            "Store\n",
            "Store A    220\n",
            "Store B    290\n",
            "Store C    330\n",
            "Name: Sales, dtype: int64\n",
            "\n",
            "Average Sales Per Product:\n",
            "Product\n",
            "Apples     113.333333\n",
            "Bananas    190.000000\n",
            "Oranges    120.000000\n",
            "Name: Sales, dtype: float64\n"
          ]
        }
      ]
    }
  ]
}