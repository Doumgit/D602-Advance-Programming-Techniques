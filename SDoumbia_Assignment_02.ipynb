{
  "nbformat": 4,
  "nbformat_minor": 0,
  "metadata": {
    "colab": {
      "provenance": [],
      "authorship_tag": "ABX9TyNH+n53mLb7DKE+MfqEPDXU",
      "include_colab_link": true
    },
    "kernelspec": {
      "name": "python3",
      "display_name": "Python 3"
    },
    "language_info": {
      "name": "python"
    }
  },
  "cells": [
    {
      "cell_type": "markdown",
      "metadata": {
        "id": "view-in-github",
        "colab_type": "text"
      },
      "source": [
        "<a href=\"https://colab.research.google.com/github/Doumgit/D602-Advance-Programming-Techniques/blob/main/SDoumbia_Assignment_02.ipynb\" target=\"_parent\"><img src=\"https://colab.research.google.com/assets/colab-badge.svg\" alt=\"Open In Colab\"/></a>"
      ]
    },
    {
      "cell_type": "markdown",
      "source": [
        "## Assignment 2"
      ],
      "metadata": {
        "id": "q83k_GGYLiS9"
      }
    },
    {
      "cell_type": "markdown",
      "source": [
        "### Q1. What will the following code display? numbers = [1, 2, 3, 4, 5] print(numbers[1:-5])\n",
        "###Can you debug and fix the output? The code should return the entire list\n"
      ],
      "metadata": {
        "id": "d973ANwwL6zD"
      }
    },
    {
      "cell_type": "code",
      "source": [
        "numbers = [1, 2, 3, 4, 5]\n",
        "print(numbers[0:5]) # To output the entire list, the first item has index 0, and last item has index 4"
      ],
      "metadata": {
        "colab": {
          "base_uri": "https://localhost:8080/"
        },
        "id": "k-e85M0HMAUa",
        "outputId": "fefe37c4-2152-4935-f6d3-9030efcde014"
      },
      "execution_count": 6,
      "outputs": [
        {
          "output_type": "stream",
          "name": "stdout",
          "text": [
            "[1, 2, 3, 4, 5]\n"
          ]
        }
      ]
    },
    {
      "cell_type": "markdown",
      "source": [
        "### Q2. Design a program that asks the user to enter a store’s sales for each day of the week. The amounts should be stored in a list. Use a loop to calculate the total sales for the week and display the result.\n"
      ],
      "metadata": {
        "id": "FWCdouDT0jV5"
      }
    },
    {
      "cell_type": "code",
      "source": [
        "Week_day_sales = []\n",
        "Total_sales = 0\n",
        "for i in range(0,7):\n",
        "  sale = float(input('Enter Store sale for the day: '))\n",
        "  Week_day_sales.append(sale)\n",
        "  Total_sales = Total_sales + sale\n",
        "print(Week_day_sales)\n",
        "print(Total_sales)"
      ],
      "metadata": {
        "colab": {
          "base_uri": "https://localhost:8080/"
        },
        "id": "Uw-Qq_Jw0uGs",
        "outputId": "89073d93-b76e-4f21-ba99-df3f3ce06c94"
      },
      "execution_count": 12,
      "outputs": [
        {
          "output_type": "stream",
          "name": "stdout",
          "text": [
            "Enter Store sale for the day: 212.34\n",
            "Enter Store sale for the day: 1555.3\n",
            "Enter Store sale for the day: 888.45\n",
            "Enter Store sale for the day: 2000\n",
            "Enter Store sale for the day: 957.8\n",
            "Enter Store sale for the day: 692.89\n",
            "Enter Store sale for the day: 435.67\n",
            "[212.34, 1555.3, 888.45, 2000.0, 957.8, 692.89, 435.67]\n",
            "6742.450000000001\n"
          ]
        }
      ]
    },
    {
      "cell_type": "markdown",
      "source": [
        "### Q3. Create a list with at least 5 places you’d like to travel to. Make sure the list isn’t in alphabetical order\n",
        "\n",
        "● Print your list in its original order.\n",
        "\n",
        "● Use the sort() function to arrange your list in order and reprint your list.\n",
        "\n",
        "● Use the sort(reverse=True) and reprint your list.\n"
      ],
      "metadata": {
        "id": "Deo0BaS49GzU"
      }
    },
    {
      "cell_type": "code",
      "source": [
        "# Creating a list with at least 5 places I'd like to travel to, not in alphabetical order\n",
        "my_travel_list = [\"Tokyo\", \"New Zealand\", \"Iceland\", \"Morocco\", \"Peru\"]\n",
        "\n",
        "# Printing the list in its original order\n",
        "print(\"Original order:\", my_travel_list)\n",
        "\n",
        "# Using the sort() function to arrange the list in alphabetical order and reprint the list\n",
        "my_travel_list.sort()\n",
        "print(\"Sorted order:\", my_travel_list)\n",
        "\n",
        "# Using the sort(reverse=True) to arrange the list in reverse alphabetical order and reprint the list\n",
        "my_travel_list.sort(reverse=True)\n",
        "print(\"Reverse sorted order:\", my_travel_list)\n"
      ],
      "metadata": {
        "colab": {
          "base_uri": "https://localhost:8080/"
        },
        "id": "1X5uqc9u9Pmr",
        "outputId": "f713db75-9cbf-43c9-d255-ac942cdcb4be"
      },
      "execution_count": 13,
      "outputs": [
        {
          "output_type": "stream",
          "name": "stdout",
          "text": [
            "Original order: ['Tokyo', 'New Zealand', 'Iceland', 'Morocco', 'Peru']\n",
            "Sorted order: ['Iceland', 'Morocco', 'New Zealand', 'Peru', 'Tokyo']\n",
            "Reverse sorted order: ['Tokyo', 'Peru', 'New Zealand', 'Morocco', 'Iceland']\n"
          ]
        }
      ]
    },
    {
      "cell_type": "markdown",
      "source": [
        "### Q4. Write a program that creates a dictionary containing course numbers and the room numbers of the rooms where the courses meet. The program should also create a dictionary containing course numbers and the names of the instructors that teach each course. After that, the program should let the user enter a course number, then it should display the course’s room number, instructor, and meeting time.\n",
        "\n",
        "## I solved this in two different methods:"
      ],
      "metadata": {
        "id": "dKyQrgAX_B9K"
      }
    },
    {
      "cell_type": "code",
      "source": [
        "# First Method:\n",
        "\n",
        "import pandas as pd\n",
        "\n",
        "# Nested dictionary\n",
        "course_dict = {'course_1':{'course_num':'data606','room_num':111, 'instructor_name':'Sarh','meeting_time':'8:00 p.m.'},\n",
        "               'course_2':{'course_num':'data602','room_num':112, 'instructor_name':'Porhy','meeting_time':'5:00 p.m.'},\n",
        "               'course_3':{'course_num':'data605','room_num':113, 'instructor_name':'Souley', 'meeting_time':'7:00 p.m.'}\n",
        "               }\n",
        "\n",
        "# Converting course_dict into a datframe\n",
        "courses = pd.DataFrame(course_dict)\n",
        "#print(courses)\n",
        "\n",
        "# User entering course number (data606, or data602, or data605)\n",
        "x = input('Enter Course number: ')\n",
        "\n",
        "# Displaying the course information\n",
        "if x == course_dict['course_1']['course_num']:\n",
        "  print(courses.iloc[:,[0]])\n",
        "elif x == course_dict['course_2']['course_num']:\n",
        "  print(courses.iloc[:,[1]])\n",
        "elif x == course_dict['course_3']['course_num']:\n",
        "  print(courses.iloc[:,[2]])\n",
        "else:\n",
        "  print('Course not found.')\n"
      ],
      "metadata": {
        "colab": {
          "base_uri": "https://localhost:8080/"
        },
        "id": "XkEX5plp_Fgm",
        "outputId": "39b4fb23-f9e6-4f0c-8eb8-e568dd4fe53c"
      },
      "execution_count": 11,
      "outputs": [
        {
          "output_type": "stream",
          "name": "stdout",
          "text": [
            "Enter Course number: data602\n",
            "                  course_2\n",
            "course_num         data602\n",
            "room_num               112\n",
            "instructor_name      Porhy\n",
            "meeting_time     5:00 p.m.\n"
          ]
        }
      ]
    },
    {
      "cell_type": "code",
      "source": [
        "# Second Method:\n",
        "\n",
        "# Dictionary containing course numbers and room numbers\n",
        "course_rooms = {\n",
        "    'CS101': '3004',\n",
        "    'CS102': '4501',\n",
        "    'CS103': '6755',\n",
        "    'NT110': '1244',\n",
        "    'CM241': '1411',\n",
        "}\n",
        "\n",
        "# Dictionary containing course numbers and instructor names\n",
        "course_instructors = {\n",
        "    'CS101': 'Haynes',\n",
        "    'CS102': 'Alvarado',\n",
        "    'CS103': 'Rich',\n",
        "    'NT110': 'Burke',\n",
        "    'CM241': 'Lee',\n",
        "}\n",
        "\n",
        "# Dictionary containing course numbers and meeting times\n",
        "course_times = {\n",
        "    'CS101': '8:00 a.m.',\n",
        "    'CS102': '9:00 a.m.',\n",
        "    'CS103': '10:00 a.m.',\n",
        "    'NT110': '11:00 a.m.',\n",
        "    'CM241': '1:00 p.m.',\n",
        "}\n",
        "\n",
        "# Prompt the user to enter a course number\n",
        "course_number = input(\"Enter a course number: \")\n",
        "\n",
        "# Display the course's room number, instructor, and meeting time\n",
        "if course_number in course_rooms:\n",
        "    print(f\"Room number: {course_rooms[course_number]}\")\n",
        "    print(f\"Instructor: {course_instructors[course_number]}\")\n",
        "    print(f\"Meeting time: {course_times[course_number]}\")\n",
        "else:\n",
        "    print(\"Course not found.\")\n"
      ],
      "metadata": {
        "colab": {
          "base_uri": "https://localhost:8080/"
        },
        "id": "TKcXniInKacg",
        "outputId": "a6e417fb-80a0-48fa-ed63-47abd7a5c96e"
      },
      "execution_count": 9,
      "outputs": [
        {
          "output_type": "stream",
          "name": "stdout",
          "text": [
            "Enter a course number: CS101\n",
            "Room number: 3004\n",
            "Instructor: Haynes\n",
            "Meeting time: 8:00 a.m.\n"
          ]
        }
      ]
    },
    {
      "cell_type": "markdown",
      "source": [
        "### Q5. Write a program that keeps names and email addresses in a dictionary as key-value pairs. The program should then demonstrate the four options:\n",
        "\n",
        "● look up a person’s email address,\n",
        "\n",
        "● add a new name and email address,\n",
        "\n",
        "● change an existing email address, and\n",
        "\n",
        "● delete an existing name and email address."
      ],
      "metadata": {
        "id": "sVKw2Ru-_KGL"
      }
    },
    {
      "cell_type": "code",
      "source": [
        "# Initializing the dictionary\n",
        "emails = {}\n",
        "\n",
        "# Creating the four options:\n",
        "\n",
        "def look_up():\n",
        "    name = input(\"Enter the name to look up: \")\n",
        "    if name in emails:\n",
        "        print(f\"Email for {name}: {emails[name]}\")\n",
        "    else:\n",
        "        print(\"Name not found.\")\n",
        "\n",
        "def add():\n",
        "    name = input(\"Enter the name to add: \")\n",
        "    if name in emails:\n",
        "        print(\"Name already exists.\")\n",
        "    else:\n",
        "        email = input(\"Enter the email address: \")\n",
        "        emails[name] = email\n",
        "        print(f\"{name} added with email {email}.\")\n",
        "\n",
        "def change():\n",
        "    name = input(\"Enter the name to change the email for: \")\n",
        "    if name in emails:\n",
        "        new_email = input(\"Enter the new email address: \")\n",
        "        emails[name] = new_email\n",
        "        print(f\"Email for {name} changed to {new_email}.\")\n",
        "    else:\n",
        "        print(\"Name not found.\")\n",
        "\n",
        "def delete():\n",
        "    name = input(\"Enter the name to delete: \")\n",
        "    if name in emails:\n",
        "        del emails[name]\n",
        "        print(f\"{name} deleted.\")\n",
        "    else:\n",
        "        print(\"Name not found.\")\n",
        "\n",
        "# looping through the four options\n",
        "while True:\n",
        "    print(\"\\nOptions:\")\n",
        "    print(\"1. Look up an email\")\n",
        "    print(\"2. Add a new email\")\n",
        "    print(\"3. Change an email\")\n",
        "    print(\"4. Delete an email\")\n",
        "    print(\"5. Quit\")\n",
        "    choice = input(\"What would you like to do? \")\n",
        "\n",
        "    if choice == '1':\n",
        "        look_up()\n",
        "    elif choice == '2':\n",
        "        add()\n",
        "    elif choice == '3':\n",
        "        change()\n",
        "    elif choice == '4':\n",
        "        delete()\n",
        "    elif choice == '5':\n",
        "        print(\"Goodbye!\")\n",
        "        break\n",
        "    else:\n",
        "        print(\"Invalid option. Please try again.\")\n"
      ],
      "metadata": {
        "colab": {
          "base_uri": "https://localhost:8080/"
        },
        "id": "55WZzB7lmaVo",
        "outputId": "c20cead6-375b-49ec-cb4b-7886be065e63"
      },
      "execution_count": 13,
      "outputs": [
        {
          "output_type": "stream",
          "name": "stdout",
          "text": [
            "\n",
            "Options:\n",
            "1. Look up an email\n",
            "2. Add a new email\n",
            "3. Change an email\n",
            "4. Delete an email\n",
            "5. Quit\n",
            "What would you like to do? 2\n",
            "Enter the name to add: SD\n",
            "Enter the email address: sd@scs.hh.net\n",
            "SD added with email sd@scs.hh.net.\n",
            "\n",
            "Options:\n",
            "1. Look up an email\n",
            "2. Add a new email\n",
            "3. Change an email\n",
            "4. Delete an email\n",
            "5. Quit\n",
            "What would you like to do? 2\n",
            "Enter the name to add: AS\n",
            "Enter the email address: as@scs.hhl.net\n",
            "AS added with email as@scs.hhl.net.\n",
            "\n",
            "Options:\n",
            "1. Look up an email\n",
            "2. Add a new email\n",
            "3. Change an email\n",
            "4. Delete an email\n",
            "5. Quit\n",
            "What would you like to do? 2\n",
            "Enter the name to add: AY\n",
            "Enter the email address: ay@scs.hhl.net\n",
            "AY added with email ay@scs.hhl.net.\n",
            "\n",
            "Options:\n",
            "1. Look up an email\n",
            "2. Add a new email\n",
            "3. Change an email\n",
            "4. Delete an email\n",
            "5. Quit\n",
            "What would you like to do? RU\n",
            "Invalid option. Please try again.\n",
            "\n",
            "Options:\n",
            "1. Look up an email\n",
            "2. Add a new email\n",
            "3. Change an email\n",
            "4. Delete an email\n",
            "5. Quit\n",
            "What would you like to do? 2\n",
            "Enter the name to add: RU\n",
            "Enter the email address: ru@scs.hhl.net\n",
            "RU added with email ru@scs.hhl.net.\n",
            "\n",
            "Options:\n",
            "1. Look up an email\n",
            "2. Add a new email\n",
            "3. Change an email\n",
            "4. Delete an email\n",
            "5. Quit\n",
            "What would you like to do? 5\n",
            "Goodbye!\n"
          ]
        }
      ]
    }
  ]
}