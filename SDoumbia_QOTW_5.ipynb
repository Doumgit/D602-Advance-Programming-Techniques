{
  "nbformat": 4,
  "nbformat_minor": 0,
  "metadata": {
    "colab": {
      "provenance": [],
      "authorship_tag": "ABX9TyNpg9QZNHD26FaQV/Kj73su",
      "include_colab_link": true
    },
    "kernelspec": {
      "name": "python3",
      "display_name": "Python 3"
    },
    "language_info": {
      "name": "python"
    }
  },
  "cells": [
    {
      "cell_type": "markdown",
      "metadata": {
        "id": "view-in-github",
        "colab_type": "text"
      },
      "source": [
        "<a href=\"https://colab.research.google.com/github/Doumgit/D602-Advance-Programming-Techniques/blob/main/SDoumbia_QOTW_5.ipynb\" target=\"_parent\"><img src=\"https://colab.research.google.com/assets/colab-badge.svg\" alt=\"Open In Colab\"/></a>"
      ]
    },
    {
      "cell_type": "markdown",
      "source": [
        "###1. Write a Python class to reverse a string word by word.\n",
        "\n",
        "Example:\n",
        "\n",
        "Input string : 'hello .py'\n",
        "\n",
        "Expected Output : '.py hello'"
      ],
      "metadata": {
        "id": "CZokoN6MPLN7"
      }
    },
    {
      "cell_type": "code",
      "execution_count": 25,
      "metadata": {
        "colab": {
          "base_uri": "https://localhost:8080/"
        },
        "id": "oF7WYbnFPCyV",
        "outputId": "7a17753c-fcda-4f15-bb4f-ae1bdd3a2eec"
      },
      "outputs": [
        {
          "output_type": "stream",
          "name": "stdout",
          "text": [
            ".py hello\n"
          ]
        }
      ],
      "source": [
        "class StringReverser:\n",
        "    @staticmethod\n",
        "    def reverse_words(input_string):\n",
        "        # Spliting the string into words\n",
        "        words = input_string.split()\n",
        "\n",
        "        # Reversing the list of words\n",
        "        words_reversed = words[::-1]\n",
        "\n",
        "        # Joining the reversed list back into a string\n",
        "        reversed_string = ' '.join(words_reversed)\n",
        "\n",
        "        return reversed_string\n",
        "\n",
        "# Testing the class with the given example\n",
        "input_string = 'hello .py'\n",
        "\n",
        "reverse_words = StringReverser()\n",
        "\n",
        "print(reverse_words.reverse_words(input_string))\n"
      ]
    },
    {
      "cell_type": "markdown",
      "source": [
        "###2. Write a Python class named Circle constructed by a radius and two methods which will compute the area and the perimeter of a circle."
      ],
      "metadata": {
        "id": "byIXj8yjTiT4"
      }
    },
    {
      "cell_type": "code",
      "source": [
        "class Circle:\n",
        "    def __init__(self, radius):\n",
        "        self.radius = radius\n",
        "\n",
        "    def compute_area(self):\n",
        "        # Area of a circle = π * r^2\n",
        "        return 3.14 * self.radius ** 2\n",
        "\n",
        "    def compute_perimeter(self):\n",
        "        # Perimeter of a circle = 2 * π * r\n",
        "        return 2 * 3.14 * self.radius\n",
        "\n",
        "# Testing the Circle class\n",
        "circle = Circle(5)  # Creating a circle with radius 5\n",
        "\n",
        "print(f\" Circle_Area: {circle.compute_area()}, Circle_Perimeter: {circle.compute_perimeter()}\")\n"
      ],
      "metadata": {
        "colab": {
          "base_uri": "https://localhost:8080/"
        },
        "id": "7PepZV6ETndT",
        "outputId": "444e831e-5f0a-4d79-d24e-232b0e59c3fb"
      },
      "execution_count": 23,
      "outputs": [
        {
          "output_type": "stream",
          "name": "stdout",
          "text": [
            " Circle_Area: 78.5, Circle_Perimeter: 31.400000000000002\n"
          ]
        }
      ]
    },
    {
      "cell_type": "code",
      "source": [
        "  # 1. Write a Python class to reverse a string word by word.\n",
        "# Example:\n",
        "\n",
        "# Input string : 'hello .py'\n",
        "\n",
        "# Expected Output : '.py hello'\n",
        "\n",
        "# Solution:\n",
        "class StringReverser:\n",
        "    @staticmethod\n",
        "    def reverse_words(input_string):\n",
        "        # Spliting the string into words\n",
        "        words = input_string.split()\n",
        "\n",
        "        # Reversing the list of words\n",
        "        words_reversed = words[::-1]\n",
        "\n",
        "        # Joining the reversed list back into a string\n",
        "        reversed_string = ' '.join(words_reversed)\n",
        "\n",
        "        return reversed_string\n",
        "\n",
        "# Testing the class with the given example\n",
        "input_string = 'hello .py'\n",
        "\n",
        "reverse_words = StringReverser()\n",
        "\n",
        "print(reverse_words.reverse_words(input_string))\n",
        "\n",
        "\n",
        "\n",
        "# 2. Write a Python class named Circle constructed by a radius and two methods which will compute the area and the perimeter of a circle.\n",
        "\n",
        "# Solution:\n",
        "class Circle:\n",
        "    def __init__(self, radius):\n",
        "        self.radius = radius\n",
        "\n",
        "    def compute_area(self):\n",
        "        # Area of a circle = π * r^2\n",
        "        return 3.14 * self.radius ** 2\n",
        "\n",
        "    def compute_perimeter(self):\n",
        "        # Perimeter of a circle = 2 * π * r\n",
        "        return 2 * 3.14 * self.radius\n",
        "\n",
        "# Testing the Circle class\n",
        "circle = Circle(5)  # Creating a circle with radius 5\n",
        "\n",
        "print(f\" Circle_Area: {circle.compute_area()}, Circle_Perimeter: {circle.compute_perimeter()}\")\n"
      ],
      "metadata": {
        "colab": {
          "base_uri": "https://localhost:8080/"
        },
        "id": "cmVMLY0YU5ce",
        "outputId": "0f28978c-76a4-426a-c438-ebe7abbc912f"
      },
      "execution_count": 27,
      "outputs": [
        {
          "output_type": "stream",
          "name": "stdout",
          "text": [
            ".py hello\n",
            " Circle_Area: 78.5, Circle_Perimeter: 31.400000000000002\n"
          ]
        }
      ]
    }
  ]
}