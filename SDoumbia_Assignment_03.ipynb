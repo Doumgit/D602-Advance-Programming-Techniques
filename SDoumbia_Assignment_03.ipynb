{
  "nbformat": 4,
  "nbformat_minor": 0,
  "metadata": {
    "colab": {
      "provenance": [],
      "authorship_tag": "ABX9TyMkvolhj09Q/9R4uQCLhVLw",
      "include_colab_link": true
    },
    "kernelspec": {
      "name": "python3",
      "display_name": "Python 3"
    },
    "language_info": {
      "name": "python"
    }
  },
  "cells": [
    {
      "cell_type": "markdown",
      "metadata": {
        "id": "view-in-github",
        "colab_type": "text"
      },
      "source": [
        "<a href=\"https://colab.research.google.com/github/Doumgit/D602-Advance-Programming-Techniques/blob/main/SDoumbia_Assignment_03.ipynb\" target=\"_parent\"><img src=\"https://colab.research.google.com/assets/colab-badge.svg\" alt=\"Open In Colab\"/></a>"
      ]
    },
    {
      "cell_type": "markdown",
      "source": [
        "### Q1: Write a program that prompts the user for a meal: breakfast, lunch, or dinner. Then using if statements and else statements print the user a message recommending a meal. For example, if the meal was breakfast, you could say something like, “How about some bacon and eggs?”\n",
        "###The user may enter something else in, but you only have to respond to breakfast, lunch, or dinner.\n"
      ],
      "metadata": {
        "id": "Ak-DllJu9tnj"
      }
    },
    {
      "cell_type": "code",
      "execution_count": 6,
      "metadata": {
        "colab": {
          "base_uri": "https://localhost:8080/"
        },
        "id": "WIHBVkjW9QgG",
        "outputId": "026523d2-7cff-4fad-f138-0cbe34f044be"
      },
      "outputs": [
        {
          "output_type": "stream",
          "name": "stdout",
          "text": [
            "Enter a meal type (breakfast, lunch, or dinner): DiNner\n",
            "How about steak with mashed potatoes?\n"
          ]
        }
      ],
      "source": [
        "meal = input(\"Enter a meal type (breakfast, lunch, or dinner): \").lower().strip() # Converting the input to lowercase and removeing any spaces\n",
        "\n",
        "if meal == \"breakfast\":\n",
        "    print(\"How about some bacon and eggs?\")\n",
        "\n",
        "elif meal == \"lunch\":\n",
        "    print(\"How about a chicken sandwich?\")\n",
        "\n",
        "elif meal == \"dinner\":\n",
        "    print(\"How about steak with mashed potatoes?\")\n",
        "\n",
        "else:\n",
        "    print(\"Sorry, I only have recommendations for breakfast, lunch, or dinner.\")\n"
      ]
    },
    {
      "cell_type": "markdown",
      "source": [
        "### Q2: The mailroom has asked you to design a simple payroll program that calculates a student employee’s gross pay, including any overtime wages. If any employee works over 20 hours in a week, the mailroom pays them 1.5 times their regular hourly pay rate for all hours over 20.\n",
        "### You should take in the user’s input for the number of hours worked, and their rate of pay.\n"
      ],
      "metadata": {
        "id": "fCbstsSsEMVy"
      }
    },
    {
      "cell_type": "code",
      "source": [
        "hours_worked = float(input(\"Enter the number of hours worked in a week: \"))\n",
        "pay_rate = float(input(\"Enter the hourly pay rate: \"))\n",
        "\n",
        "if hours_worked > 20:\n",
        "    regular_pay = 20 * pay_rate\n",
        "\n",
        "    overtime_hours = hours_worked - 20\n",
        "    overtime_pay = overtime_hours * pay_rate * 1.5\n",
        "\n",
        "    gross_pay = regular_pay + overtime_pay\n",
        "\n",
        "else:\n",
        "    gross_pay = hours_worked * pay_rate\n",
        "\n",
        "print(f\"Gross Pay: ${gross_pay:.2f}\")\n",
        "\n"
      ],
      "metadata": {
        "colab": {
          "base_uri": "https://localhost:8080/"
        },
        "id": "C04ndpHXETsW",
        "outputId": "570d3825-26a7-4d68-dd82-7b23390cf475"
      },
      "execution_count": 9,
      "outputs": [
        {
          "output_type": "stream",
          "name": "stdout",
          "text": [
            "Enter the number of hours worked in a week: 38\n",
            "Enter the hourly pay rate: 23\n",
            "Gross Pay: $1081.00\n"
          ]
        }
      ]
    },
    {
      "cell_type": "markdown",
      "source": [
        "### Q3: Write a function named times_ten. The function should accept an argument and display the product of its argument multiplied times 10.\n"
      ],
      "metadata": {
        "id": "jQGY4I35JV8P"
      }
    },
    {
      "cell_type": "code",
      "source": [
        "def times_ten(x):\n",
        "\n",
        "  return 10 * x\n",
        "\n",
        "# An Example 5.2 is accepted argument\n",
        "times_ten(5.2)"
      ],
      "metadata": {
        "colab": {
          "base_uri": "https://localhost:8080/"
        },
        "id": "nM36kqzqJXyZ",
        "outputId": "7b6b84f9-7512-4c61-a272-70295d0f165c"
      },
      "execution_count": 24,
      "outputs": [
        {
          "output_type": "execute_result",
          "data": {
            "text/plain": [
              "52.0"
            ]
          },
          "metadata": {},
          "execution_count": 24
        }
      ]
    },
    {
      "cell_type": "markdown",
      "source": [
        "### Q4: Find the errors, debug the program, and then execute to show the output.\n",
        "\n",
        "### def main()\n",
        "      Calories1 = input( \"How many calories are in the first food?\")\n",
        "      Calories2 = input( \"How many calories are in the first food?\")\n",
        "      showCalories(calories1, calories2)\n",
        "\n",
        "### def showCalories()   \n",
        "   print(“The total calories you ate today”, format(calories1 + calories2,.2f))\n"
      ],
      "metadata": {
        "id": "jQFEOLylLU7l"
      }
    },
    {
      "cell_type": "code",
      "source": [
        "def main():\n",
        "    calories1 = float(input(\"How many calories are in the first food? \"))\n",
        "    calories2 = float(input(\"How many calories are in the second food? \"))  # Fixed the prompt to correctly refer to the second food\n",
        "    showCalories(calories1, calories2)\n",
        "\n",
        "def showCalories(calories1, calories2):  # Added parameters to the function definition\n",
        "    total_calories = calories1 + calories2  # Perform addition and then format\n",
        "    print(f\"The total calories you ate today: {total_calories:.2f}\")\n",
        "\n",
        "# Calling the main function to run the program\n",
        "main()\n"
      ],
      "metadata": {
        "colab": {
          "base_uri": "https://localhost:8080/"
        },
        "id": "f2UWV85JLnce",
        "outputId": "099b2cf9-c335-4b53-dd8b-65efe894c1d8"
      },
      "execution_count": 27,
      "outputs": [
        {
          "output_type": "stream",
          "name": "stdout",
          "text": [
            "How many calories are in the first food? 700\n",
            "How many calories are in the second food? 150\n",
            "The total calories you ate today: 850.00\n"
          ]
        }
      ]
    },
    {
      "cell_type": "markdown",
      "source": [
        "### Q5: Write a program that uses any loop (while or for) that calculates the total of the following series of numbers:\n",
        "         1/30 + 2/29 + 3/28 ............. + 30/1\n"
      ],
      "metadata": {
        "id": "tnD_eo3lxC29"
      }
    },
    {
      "cell_type": "code",
      "source": [
        "u = []  # numerators\n",
        "v = []  # denominators\n",
        "t = []  # terms of the series\n",
        "\n",
        "for i in range(1, 31):\n",
        "    u.append(i)\n",
        "    v.append(31 - i)\n",
        "\n",
        "for i in range(0, 30):\n",
        "    t.append(u[i] / v[i])  # Calculating each term in the series\n",
        "\n",
        "sum_series = sum(t)  # summing the terms in the series\n",
        "\n",
        "#print(u)\n",
        "#print(v)\n",
        "#print(t)\n",
        "print(sum_series)\n"
      ],
      "metadata": {
        "colab": {
          "base_uri": "https://localhost:8080/"
        },
        "id": "NcwTNUWkxKht",
        "outputId": "ce506fe0-8f1d-46a1-b7aa-a9a447dfa759"
      },
      "execution_count": 9,
      "outputs": [
        {
          "output_type": "stream",
          "name": "stdout",
          "text": [
            "93.84460105853213\n"
          ]
        }
      ]
    },
    {
      "cell_type": "markdown",
      "source": [
        "### Q6: Write a function that computes the area of a triangle given its base and height.\n",
        "### The formula for an area of a triangle is:\n",
        "### AREA = 1/2 * BASE * HEIGHT\n",
        "\n",
        "###For example, if the base was 5 and the height was 4, the area would be 10.\n",
        "###triangle_area(5, 4)   # should print 10\n"
      ],
      "metadata": {
        "id": "L4UUUU5DxK9a"
      }
    },
    {
      "cell_type": "code",
      "source": [
        "def triangle_area(base, height):\n",
        "\n",
        "    area = 0.5 * base * height\n",
        "\n",
        "    return area\n",
        "\n",
        "# Example of triangle with base 5 and height 4\n",
        "area = triangle_area(5, 4)\n",
        "print(area)\n"
      ],
      "metadata": {
        "colab": {
          "base_uri": "https://localhost:8080/"
        },
        "id": "0SBIuMz6xU4W",
        "outputId": "ecc6255d-43fb-42a1-d16c-3935a45a8f2e"
      },
      "execution_count": 8,
      "outputs": [
        {
          "output_type": "stream",
          "name": "stdout",
          "text": [
            "10.0\n"
          ]
        }
      ]
    }
  ]
}