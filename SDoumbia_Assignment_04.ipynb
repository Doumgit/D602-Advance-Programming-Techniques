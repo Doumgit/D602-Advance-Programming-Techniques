{
  "nbformat": 4,
  "nbformat_minor": 0,
  "metadata": {
    "colab": {
      "provenance": [],
      "authorship_tag": "ABX9TyPxod87xJCS/DZW9TGp9A8R",
      "include_colab_link": true
    },
    "kernelspec": {
      "name": "python3",
      "display_name": "Python 3"
    },
    "language_info": {
      "name": "python"
    }
  },
  "cells": [
    {
      "cell_type": "markdown",
      "metadata": {
        "id": "view-in-github",
        "colab_type": "text"
      },
      "source": [
        "<a href=\"https://colab.research.google.com/github/Doumgit/D602-Advance-Programming-Techniques/blob/main/SDoumbia_Assignment_04.ipynb\" target=\"_parent\"><img src=\"https://colab.research.google.com/assets/colab-badge.svg\" alt=\"Open In Colab\"/></a>"
      ]
    },
    {
      "cell_type": "markdown",
      "source": [
        "## Q1: Create a class called BankAccount that has four attributes: bankname, firstname, lastname, and balance.\n",
        "\n",
        "The default balance should be set to 0.\n",
        "\n",
        "In addition, create ...\n",
        "\n",
        "● A method called deposit() that allows the user to make deposits into their balance.\n",
        "\n",
        "● A method called withdrawal() that allows the user to withdraw from their balance.\n",
        "\n",
        "● Withdrawal may not exceed the available balance. Hint: consider a conditional argument in your withdrawal() method.\n",
        "\n",
        "● Use the __str__() method in order to display the bank name, owner name, and current\n",
        "balance.\n",
        "\n",
        "● Make a series of deposits and withdrawals to test your class.\n"
      ],
      "metadata": {
        "id": "85NiKkIHFggv"
      }
    },
    {
      "cell_type": "code",
      "execution_count": 11,
      "metadata": {
        "colab": {
          "base_uri": "https://localhost:8080/"
        },
        "id": "otDkF2HFE_ot",
        "outputId": "cac60933-6f9e-4531-aff5-a5eea4745064"
      },
      "outputs": [
        {
          "output_type": "stream",
          "name": "stdout",
          "text": [
            "Deposited $20000. New balance is $20000.\n",
            "Deposit amount must be positive.\n",
            "Withdrew $5000. New balance is $15000.\n",
            "Withdrew $1000. New balance is $14000.\n",
            "Withdrawal amount must be positive.\n",
            "Bank: MyBank\n",
            "Account Holder: Souleymane Doumbia\n",
            "Balance: $14000\n"
          ]
        }
      ],
      "source": [
        "class BankAccount:\n",
        "    def __init__(self, bankname, firstname, lastname, balance=0):\n",
        "        self.bankname = bankname\n",
        "        self.firstname = firstname\n",
        "        self.lastname = lastname\n",
        "        self.balance = balance\n",
        "\n",
        "    def deposit(self, amount):\n",
        "        if amount > 0:\n",
        "            self.balance += amount\n",
        "            print(f\"Deposited ${amount}. New balance is ${self.balance}.\")\n",
        "        else:\n",
        "            print(\"Deposit amount must be positive.\")\n",
        "\n",
        "    def withdrawal(self, amount):\n",
        "        if amount > self.balance:\n",
        "            print(\"Insufficient funds for this withdrawal.\")\n",
        "        elif amount > 0:\n",
        "            self.balance -= amount\n",
        "            print(f\"Withdrew ${amount}. New balance is ${self.balance}.\")\n",
        "        else:\n",
        "            print(\"Withdrawal amount must be positive.\")\n",
        "\n",
        "    def __str__(self):\n",
        "        return f\"Bank: {self.bankname}\\nAccount Holder: {self.firstname} {self.lastname}\\nBalance: ${self.balance}\"\n",
        "\n",
        "# Testing the BankAccount class\n",
        "account = BankAccount(\"MyBank\", \"Souleymane\", \"Doumbia\")\n",
        "\n",
        "# Make a series of deposits and withdrawals\n",
        "account.deposit(20000)\n",
        "account.deposit(-5000)\n",
        "account.withdrawal(5000)\n",
        "account.withdrawal(1000)\n",
        "account.withdrawal(-1000)\n",
        "\n",
        "print(account)\n"
      ]
    },
    {
      "cell_type": "markdown",
      "source": [
        "## Q2: Create a class Box that has attributes length and width that takes values for length and width upon construction (instantiation via the constructor).\n",
        "In addition, create...\\\n",
        "● A method called render() that prints out to the screen a box made with asterisks of\n",
        "length and width dimensions\\\n",
        "● A method called invert() that switches length and width with each other\\\n",
        "● Methods get_area() and get_perimeter() that return appropriate geometric calculations\\\n",
        "● A method called double() that doubles the size of the box. Hint: Pay attention to return\n",
        "value here.\\\n",
        "● Implement __eq__ so that two boxes can be compared using ==. Two boxes are equal if\n",
        "their respective lengths and widths are identical.\\\n",
        "● A method print_dim() that prints to screen the length and width details of the box\\\n",
        "● A method get_dim() that returns a tuple containing the length and width of the box\\\n",
        "● A method combine() that takes another box as an argument and increases the length\\\n",
        "and width by the dimensions of the box passed in\\\n",
        "● A method get_hypot() that finds the length of the diagonal that cuts through the middle\\\n",
        "\\\n",
        "● Instantiate 3 boxes of dimensions 5,10 , 3,4 and 5,10 and assign to variables box1, box2 and box3 respectively\\\n",
        "● Print dimension info for each using print_dim()\\\n",
        "● Evaluate if box1 == box2, and also evaluate if box1 == box3, print True or False to the\n",
        "screen accordingly\\\n",
        "● Combine box3 into box1 (i.e. box1.combine())\\\n",
        "● Double the size of box2\\\n",
        "● Combine box2 into box1"
      ],
      "metadata": {
        "id": "F3vJZxpFhdzS"
      }
    },
    {
      "cell_type": "markdown",
      "source": [
        "###Step 1: Defining the Box Class"
      ],
      "metadata": {
        "id": "_gpsL6bT75VN"
      }
    },
    {
      "cell_type": "code",
      "source": [
        "class Box:\n",
        "    def __init__(self, length, width):\n",
        "        self.length = length\n",
        "        self.width = width\n",
        "\n",
        "    def render(self):\n",
        "        for _ in range(self.width):\n",
        "            print('*' * self.length)\n",
        "\n",
        "    def invert(self):\n",
        "        self.length, self.width = self.width, self.length\n",
        "\n",
        "    def get_area(self):\n",
        "        return self.length * self.width\n",
        "\n",
        "    def get_perimeter(self):\n",
        "        return 2 * (self.length + self.width)\n",
        "\n",
        "    def double(self):\n",
        "        self.length *= 2\n",
        "        self.width *= 2\n",
        "\n",
        "    def __eq__(self, other):\n",
        "        return self.length == other.length and self.width == other.width\n",
        "\n",
        "    def print_dim(self):\n",
        "        print(f\"Length: {self.length}, Width: {self.width}\")\n",
        "\n",
        "    def get_dim(self):\n",
        "        return (self.length, self.width)\n",
        "\n",
        "    def combine(self, other):\n",
        "        self.length += other.length\n",
        "        self.width += other.width\n",
        "\n",
        "    def get_hypot(self):\n",
        "        return (self.length**2 + self.width**2)**0.5\n"
      ],
      "metadata": {
        "id": "lhF8EPiUiDM1"
      },
      "execution_count": 65,
      "outputs": []
    },
    {
      "cell_type": "markdown",
      "source": [
        "###Step 2: Instantiating Boxes and Performing Operations\n"
      ],
      "metadata": {
        "id": "KFtR5sb88Oqz"
      }
    },
    {
      "cell_type": "code",
      "source": [
        "# Instantiating boxes\n",
        "box1 = Box(5, 10)\n",
        "box2 = Box(3, 4)\n",
        "box3 = Box(5, 10)\n",
        "\n",
        "# Printing dimensions\n",
        "box1.print_dim()\n",
        "box2.print_dim()\n",
        "box3.print_dim()\n",
        "\n",
        "# Evaluating equality\n",
        "print(box1 == box2)\n",
        "print(box1 == box3)\n",
        "\n",
        "# Combining box3 into box1\n",
        "box1.combine(box3)\n",
        "\n",
        "# Doubling the size of box2\n",
        "box2.double()\n",
        "\n",
        "# Combining box2 into box1\n",
        "box1.combine(box2)\n",
        "\n",
        "# Printing final dimensions\n",
        "box1.print_dim()\n",
        "box2.print_dim()\n",
        "box3.print_dim()\n"
      ],
      "metadata": {
        "colab": {
          "base_uri": "https://localhost:8080/"
        },
        "id": "aKo5jaxS8WZ_",
        "outputId": "5e46a440-8788-4aed-8b2d-cc82b6e98e83"
      },
      "execution_count": 66,
      "outputs": [
        {
          "output_type": "stream",
          "name": "stdout",
          "text": [
            "Length: 5, Width: 10\n",
            "Length: 3, Width: 4\n",
            "Length: 5, Width: 10\n",
            "False\n",
            "True\n",
            "Length: 16, Width: 28\n",
            "Length: 6, Width: 8\n",
            "Length: 5, Width: 10\n"
          ]
        }
      ]
    }
  ]
}