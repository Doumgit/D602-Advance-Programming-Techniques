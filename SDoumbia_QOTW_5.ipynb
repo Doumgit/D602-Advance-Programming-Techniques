{
  "nbformat": 4,
  "nbformat_minor": 0,
  "metadata": {
    "colab": {
      "provenance": [],
      "authorship_tag": "ABX9TyPruJb9gP0DETvGWgqmToBh",
      "include_colab_link": true
    },
    "kernelspec": {
      "name": "python3",
      "display_name": "Python 3"
    },
    "language_info": {
      "name": "python"
    }
  },
  "cells": [
    {
      "cell_type": "markdown",
      "metadata": {
        "id": "view-in-github",
        "colab_type": "text"
      },
      "source": [
        "<a href=\"https://colab.research.google.com/github/Doumgit/D602-Advance-Programming-Techniques/blob/main/SDoumbia_QOTW_5.ipynb\" target=\"_parent\"><img src=\"https://colab.research.google.com/assets/colab-badge.svg\" alt=\"Open In Colab\"/></a>"
      ]
    },
    {
      "cell_type": "markdown",
      "source": [
        "### 1. What are the similarities and differences between pandas and numpy?   Include some type of example with code.\n",
        "\n"
      ],
      "metadata": {
        "id": "hOM2_2LjYMBH"
      }
    },
    {
      "cell_type": "markdown",
      "source": [
        "***Similarities:***\n",
        "\n",
        "- Performance: Both libraries are built on C, ensuring efficient computation and data manipulation.\n",
        "- Data Handling: They are used for handling numerical data and performing mathematical operations.\n",
        "- Interoperability: Pandas relies on NumPy for its underlying data structures and operations, making them highly interoperable.\n",
        "\n",
        "***Differences:***\n",
        "- Data Structures: NumPy provides a fundamental structure, the ndarray, for handling numerical data. Pandas introduces more high-level data structures like **DataFrame** and **Series**, which are built on top of NumPy arrays and provide a more intuitive interface for handling tabular data.\n",
        "- Functionality: NumPy is more focused on mathematical and numerical operations, such as matrix multiplication and transformations. Pandas, on the other hand, offers more sophisticated tools for data manipulation, such as merging, reshaping, and summarizing data.\n",
        "- Use Cases: NumPy is more suited for numerical and scientific computing where complex mathematical operations are common. Pandas is designed for data analysis and manipulation, making it more suitable for working with structured data like CSV files or SQL query results."
      ],
      "metadata": {
        "id": "dKNTSjG3ZRWj"
      }
    },
    {
      "cell_type": "markdown",
      "source": [
        "**Example Code**"
      ],
      "metadata": {
        "id": "JQtbWy-7aIf-"
      }
    },
    {
      "cell_type": "code",
      "source": [
        "# Numpy Example\n",
        "import numpy as np\n",
        "\n",
        "# Creating a NumPy array\n",
        "data = np.array([1, 2, 3, 4, 5])\n",
        "\n",
        "# Computing the mean\n",
        "mean = np.mean(data)\n",
        "print(\"Mean with NumPy:\", mean)\n"
      ],
      "metadata": {
        "colab": {
          "base_uri": "https://localhost:8080/"
        },
        "id": "onFdP9n7aQZj",
        "outputId": "13171c12-4f38-4351-a029-7efc0eec4455"
      },
      "execution_count": 1,
      "outputs": [
        {
          "output_type": "stream",
          "name": "stdout",
          "text": [
            "Mean with NumPy: 3.0\n"
          ]
        }
      ]
    },
    {
      "cell_type": "code",
      "source": [
        "# Pandas Example\n",
        "import pandas as pd\n",
        "\n",
        "# Creating a Pandas Series\n",
        "data = pd.Series([1, 2, 3, 4, 5])\n",
        "\n",
        "# Computing the mean\n",
        "mean = data.mean()\n",
        "print(\"Mean with Pandas:\", mean)\n"
      ],
      "metadata": {
        "colab": {
          "base_uri": "https://localhost:8080/"
        },
        "id": "HEYVAmqiaaQc",
        "outputId": "38d48dc6-d92e-43f0-a23c-43bb8ff3ba4f"
      },
      "execution_count": 2,
      "outputs": [
        {
          "output_type": "stream",
          "name": "stdout",
          "text": [
            "Mean with Pandas: 3.0\n"
          ]
        }
      ]
    },
    {
      "cell_type": "markdown",
      "source": [
        "Both examples achieve the same result, but the Pandas example operates on a **Series** object."
      ],
      "metadata": {
        "id": "0XN9XBNOanJl"
      }
    },
    {
      "cell_type": "markdown",
      "source": [
        "### 2. What is the ndarray in numPy?\n",
        "\n"
      ],
      "metadata": {
        "id": "aMHLdmMVb20e"
      }
    },
    {
      "cell_type": "markdown",
      "source": [
        "The **ndarray** in NumPy, short for n-dimensional array, is the fundamental data structure provided by the NumPy library for storing and manipulating homogeneous data. It is a grid of values, all of the same type, and is indexed by a tuple of nonnegative integers. The number of dimensions (axes) of the array is described by its shape, which is a tuple of integers indicating the size of the array along each dimension."
      ],
      "metadata": {
        "id": "u_H_zSCxb4Pp"
      }
    },
    {
      "cell_type": "markdown",
      "source": [
        "### 3. Create a 1D array of numbers from 0 to 9\n",
        "Desired Output:\n",
        "\n",
        "array([0, 1, 2, 3, 4, 5, 6, 7, 8, 9])"
      ],
      "metadata": {
        "id": "hOZ5jzYassZD"
      }
    },
    {
      "cell_type": "code",
      "source": [
        "import numpy as np\n",
        "\n",
        "# Creating a 1D array of numbers from 0 to 9\n",
        "array_1d = np.arange(10)\n",
        "\n",
        "array_1d\n"
      ],
      "metadata": {
        "colab": {
          "base_uri": "https://localhost:8080/"
        },
        "id": "DD85T-OPcHhg",
        "outputId": "9d765fbf-e43b-45f7-85c0-677762205351"
      },
      "execution_count": 6,
      "outputs": [
        {
          "output_type": "execute_result",
          "data": {
            "text/plain": [
              "array([0, 1, 2, 3, 4, 5, 6, 7, 8, 9])"
            ]
          },
          "metadata": {},
          "execution_count": 6
        }
      ]
    },
    {
      "cell_type": "markdown",
      "source": [
        "### 4. Extract all odd numbers from array1\n",
        "\n",
        "array1 = np.array([0, 1, 2, 3, 4, 5, 6, 7, 8, 9])"
      ],
      "metadata": {
        "id": "oFmyc6qguzx-"
      }
    },
    {
      "cell_type": "code",
      "source": [
        "import numpy as np\n",
        "\n",
        "# Given array\n",
        "array1 = np.array([0, 1, 2, 3, 4, 5, 6, 7, 8, 9])\n",
        "\n",
        "# Extracting all odd numbers from array1\n",
        "odd_numbers = array1[array1 % 2 == 1]\n",
        "\n",
        "odd_numbers\n"
      ],
      "metadata": {
        "colab": {
          "base_uri": "https://localhost:8080/"
        },
        "id": "hXNcHiuZu7lk",
        "outputId": "dcf90034-0240-4821-a05b-4dc4757a005d"
      },
      "execution_count": 7,
      "outputs": [
        {
          "output_type": "execute_result",
          "data": {
            "text/plain": [
              "array([1, 3, 5, 7, 9])"
            ]
          },
          "metadata": {},
          "execution_count": 7
        }
      ]
    },
    {
      "cell_type": "markdown",
      "source": [
        "### 5. Get the common items between a and b  \n",
        "\n",
        "***#input***\n",
        "\n",
        "a = np.array([1,2,3,2,3,4,3,4,5,6])\n",
        "\n",
        "b = np.array([7,2,10,2,7,4,9,4,9,8])\n",
        "\n",
        "***#Desired Output:***\n",
        "\n",
        "array([2, 4])"
      ],
      "metadata": {
        "id": "I6LOJAirv9f3"
      }
    },
    {
      "cell_type": "code",
      "source": [
        "# Given input arrays\n",
        "a = np.array([1, 2, 3, 2, 3, 4, 3, 4, 5, 6])\n",
        "b = np.array([7, 2, 10, 2, 7, 4, 9, 4, 9, 8])\n",
        "\n",
        "# Getting the common items between a and b\n",
        "common_items = np.intersect1d(a, b)\n",
        "\n",
        "common_items\n"
      ],
      "metadata": {
        "colab": {
          "base_uri": "https://localhost:8080/"
        },
        "id": "3h3xXMKrwK7w",
        "outputId": "d4176afc-a759-46c3-ba9e-bd84f5f5cd82"
      },
      "execution_count": 13,
      "outputs": [
        {
          "output_type": "execute_result",
          "data": {
            "text/plain": [
              "array([2, 4])"
            ]
          },
          "metadata": {},
          "execution_count": 13
        }
      ]
    },
    {
      "cell_type": "markdown",
      "source": [
        "### 6. From array a remove all items present in array b\n",
        "\n",
        "###***Input:***\n",
        "\n",
        "a = np.array([1,2,3,4,5])\n",
        "\n",
        "b = np.array([5,6,7,8,9])\n",
        "\n",
        "###***Desired Output:***\n",
        "\n",
        "array([1,2,3,4])"
      ],
      "metadata": {
        "id": "Mn66jmSRxeGP"
      }
    },
    {
      "cell_type": "code",
      "source": [
        "import numpy as np\n",
        "\n",
        "# Given input arrays\n",
        "a = np.array([1, 2, 3, 4, 5])\n",
        "b = np.array([5, 6, 7, 8, 9])\n",
        "\n",
        "# Removing all items in a that are present in b\n",
        "result = np.setdiff1d(a, b)\n",
        "\n",
        "result\n"
      ],
      "metadata": {
        "colab": {
          "base_uri": "https://localhost:8080/"
        },
        "id": "18GmCG62x_ok",
        "outputId": "2239a086-cdd0-4939-d22d-ebc14a0cc90b"
      },
      "execution_count": 14,
      "outputs": [
        {
          "output_type": "execute_result",
          "data": {
            "text/plain": [
              "array([1, 2, 3, 4])"
            ]
          },
          "metadata": {},
          "execution_count": 14
        }
      ]
    },
    {
      "cell_type": "markdown",
      "source": [
        "### 7. Find out if iris has any missing values.\n",
        "\n",
        "\n",
        "\n",
        "### ***Input***\n",
        "url = 'https://archive.ics.uci.edu/ml/machine-learning-databases/iris/iris.data'\n",
        "\n",
        "iris = np.genfromtxt(url, delimiter=',', dtype='float', usecols=[0,1,2,3])"
      ],
      "metadata": {
        "id": "10ZSKkEjyxnX"
      }
    },
    {
      "cell_type": "code",
      "source": [
        "import numpy as np\n",
        "\n",
        "#Input\n",
        "url = 'https://archive.ics.uci.edu/ml/machine-learning-databases/iris/iris.data'\n",
        "\n",
        "iris = np.genfromtxt(url, delimiter=',', dtype='float', usecols=[0,1,2,3])\n",
        "\n",
        "\n",
        "# Checking if there are any missing (NaN) values in the dataset\n",
        "missing_values_exist = np.isnan(iris).any()\n",
        "\n",
        "print(\"Are there any missing values in the Iris dataset?\", missing_values_exist)"
      ],
      "metadata": {
        "colab": {
          "base_uri": "https://localhost:8080/"
        },
        "id": "6HViEG1kzHQt",
        "outputId": "71d419ea-c298-4ee9-cae3-0eedfa7e5c7f"
      },
      "execution_count": 17,
      "outputs": [
        {
          "output_type": "stream",
          "name": "stdout",
          "text": [
            "Are there any missing values in the Iris dataset? False\n"
          ]
        }
      ]
    }
  ]
}