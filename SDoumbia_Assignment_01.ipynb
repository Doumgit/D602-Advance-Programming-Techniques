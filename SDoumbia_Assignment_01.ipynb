{
  "nbformat": 4,
  "nbformat_minor": 0,
  "metadata": {
    "colab": {
      "provenance": [],
      "authorship_tag": "ABX9TyPq8XwjalW1/Hhz6CZPP4+7",
      "include_colab_link": true
    },
    "kernelspec": {
      "name": "python3",
      "display_name": "Python 3"
    },
    "language_info": {
      "name": "python"
    }
  },
  "cells": [
    {
      "cell_type": "markdown",
      "metadata": {
        "id": "view-in-github",
        "colab_type": "text"
      },
      "source": [
        "<a href=\"https://colab.research.google.com/github/Doumgit/D602-Advance-Programming-Techniques/blob/main/SDoumbia_Assignment_01.ipynb\" target=\"_parent\"><img src=\"https://colab.research.google.com/assets/colab-badge.svg\" alt=\"Open In Colab\"/></a>"
      ]
    },
    {
      "cell_type": "markdown",
      "source": [
        "#assignment_01"
      ],
      "metadata": {
        "id": "fObR4_G5Tbh5"
      }
    },
    {
      "cell_type": "code",
      "execution_count": 7,
      "metadata": {
        "colab": {
          "base_uri": "https://localhost:8080/"
        },
        "id": "YkN5BXNVKs71",
        "outputId": "f450e988-0376-4bbb-b8e2-1be68e3abe07"
      },
      "outputs": [
        {
          "output_type": "stream",
          "name": "stdout",
          "text": [
            "Enter the score for test 1: 67\n",
            "Enter the score for test 2: 34\n",
            "Enter the score for test 2: 101\n",
            "The average score is  67.33333333333333\n",
            "That is a great average!\n"
          ]
        }
      ],
      "source": [
        "#Q1 Fix all the syntax and logical errors in the given source code\n",
        "#add comments to explain your reasoning\n",
        "\n",
        "# This program gets three test scores and displays their average.  It congratulates the user if the\n",
        "# average is a high score. The high score variable holds the value that is considered a high score.\n",
        "\n",
        "HIGH_SCORE = 95\n",
        "\n",
        "# Get the test scores.\n",
        "test1 = int(input('Enter the score for test 1: ')) # for i converted each test score into integer by using int() function to avoid the 'str' Error I was getting\n",
        "test2 = int(input('Enter the score for test 2: '))\n",
        "test3 = int(input('Enter the score for test 2: ')) # test3 score input request was missing, and this line will correct it.\n",
        "\n",
        "# Calculate the average test score.\n",
        "average = float((test1 + test2 + test3) / 3)    # I added parentheses around the addition so that the addition is calculated first before dividing it by 3 to get 'average', I also used float() function to take care of the str error\n",
        "\n",
        "# Print the average.\n",
        "print('The average score is ', average) # I added a space between 'is' and 'average'\n",
        "\n",
        "# If the average is a high score,\n",
        "# congratulate the user.\n",
        "if average >= HIGH_SCORE:              # all characteres of 'high_score' variable need to be capitalized as the original variable 'HIGH_SCORE'\n",
        "    print('Congratulations!')\n",
        "else:                                   # I added 'else' so that when 'average' is less than 'HIGH_SCORE', other than 'Congratulation' will be written\n",
        "    print('That is a great average!')"
      ]
    },
    {
      "cell_type": "code",
      "source": [
        "#Q2\n",
        "#The area of a rectangle is the rectangle’s length times its width. Write a program that asks for the length and width of two rectangles and prints to the user the area of both rectangles.\n",
        "\n",
        "def f(x,y):       # I defined a function f taking two values to return their product\n",
        "    Area = x*y\n",
        "    return Area\n",
        "\n",
        "Rectangle1 = (int(input('Enter Length of Rectangle1: ')), int(input('Enter Width of Rectangle2: '))) # Entering the dimensions of the rectangle 1, and printing its area\n",
        "print('Area of Rectangle 1: ',f(Rectangle1[0], Rectangle1[1]))\n",
        "\n",
        "Rectangle2 = (int(input('Enter Length Rectangle2: ')), int(input('Enter Width Rectangle2: ')))  # Entering the dimensions of the rectangle 2, and printing its area\n",
        "print('Area of Rectangle 2: ',f(Rectangle2[0], Rectangle2[1]))"
      ],
      "metadata": {
        "colab": {
          "base_uri": "https://localhost:8080/"
        },
        "id": "42MduLh_Tnwv",
        "outputId": "869bd315-3f80-4bc0-ece9-ba5fb78c0d16"
      },
      "execution_count": 16,
      "outputs": [
        {
          "output_type": "stream",
          "name": "stdout",
          "text": [
            "Enter Length of Rectangle1: 5\n",
            "Enter Width of Rectangle2: 6\n",
            "Area of Rectangle 1:  30\n",
            "Enter Length Rectangle2: 8\n",
            "Enter Width Rectangle2: 4\n",
            "Area of Rectangle 2:  32\n"
          ]
        }
      ]
    },
    {
      "cell_type": "code",
      "source": [
        "#Q3\n",
        "#Ask a user to enter their first name and their age and assign it to the variables name and age.\n",
        "#The variable name should be a string and the variable age should be an int.\n",
        "name = input(\"Please enter your first name: \")  # Prompting a request for user to enter their name by using 'input()' function as above\n",
        "\n",
        "age = input(\"Please enter your age: \") # Samething, Prompting a request for user to enter their age by using 'input()' function as above\n",
        "\n",
        "\n",
        "# Converting the age input to an integer by using 'int()' function\n",
        "age = int(age)\n",
        "\n",
        "#Using the variables name and age, print a message to the user stating something along the lines of:\n",
        "# \"Happy birthday, name!  You are age years old today!\"\n",
        "print(f\"Happy birthday, {name}! You are {age} years old today!\") # We used F-string 'f' to embedd variable 'name' and 'age' into this sentence which is also a string.\n"
      ],
      "metadata": {
        "id": "1hXiSXitYwDA"
      },
      "execution_count": null,
      "outputs": []
    }
  ]
}